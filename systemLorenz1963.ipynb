{
 "cells": [
  {
   "cell_type": "markdown",
   "id": "1641060e",
   "metadata": {},
   "source": [
    "# Lorenz (1963) system\n",
    "\n",
    "<img src=\"figButterflyEffect.jpg\" width=350 height=300 />\n",
    "\n",
    "Code to simulate the 3-equation system of Lorenz (1963). <br>\n",
    "Vincent Verjans, vverjans3@gatech.edu\n",
    "\n",
    "System of equations:\n",
    "$$\n",
    "\\begin{align}\n",
    "\\begin{cases}\n",
    "\\frac{\\partial X}{\\partial t} = -\\sigma X + \\sigma Y\\\\\n",
    "\\frac{\\partial Y}{\\partial t} = (r-Z) X - Y \\\\\n",
    "\\frac{\\partial Z}{\\partial t} = X Y - b Z\\\\\n",
    "\\end{cases}\n",
    "\\end{align}\n",
    "$$\n",
    "$X \\sim$ intensity of the convective motion <br>\n",
    "$Y \\sim$ temperature difference between ascendant and descending currents <br>\n",
    "$Z \\sim$ distortion of the vertical temperature profile from linearity (>0 implies strongest gradients near the boundaries) <br>"
   ]
  },
  {
   "cell_type": "code",
   "execution_count": null,
   "id": "0dc5ba8f",
   "metadata": {},
   "outputs": [],
   "source": [
    "import numpy as np\n",
    "import matplotlib.pyplot as plt"
   ]
  },
  {
   "cell_type": "markdown",
   "id": "5184145f",
   "metadata": {},
   "source": [
    "First: define the time stepping scheme"
   ]
  },
  {
   "cell_type": "code",
   "execution_count": null,
   "id": "78d81e43",
   "metadata": {},
   "outputs": [],
   "source": [
    "### Time stepping ###\n",
    "deltat = 0.01\n",
    "ntot   = 6113\n",
    "timing  = np.arange(0,ntot*deltat,deltat)"
   ]
  },
  {
   "cell_type": "markdown",
   "id": "a778629b",
   "metadata": {},
   "source": [
    "Choose the parameter values. Lorenz (1963) used the combination $\\sigma=10$, $b=8/3$, $r=28$. For these values of $\\sigma$ and $b$, the critical Rayleigh number occurs when $r \\leq 24.74$."
   ]
  },
  {
   "cell_type": "code",
   "execution_count": null,
   "id": "32e7800f",
   "metadata": {},
   "outputs": [],
   "source": [
    "### Parameters ###\n",
    "sigma  = 10.0\n",
    "smallr = 28.0\n",
    "smallb = 8/3"
   ]
  },
  {
   "cell_type": "markdown",
   "id": "97918c26",
   "metadata": {},
   "source": [
    "Next, we choose our initial values for $X, Y, Z$, and we initialze the arrays that will hold the simulated values."
   ]
  },
  {
   "cell_type": "code",
   "execution_count": null,
   "id": "c9301d8c",
   "metadata": {},
   "outputs": [],
   "source": [
    "### Initial conditions ###\n",
    "initx      = 0.0\n",
    "inity      = 0.1\n",
    "initz      = 0.0\n",
    "xvalues    = np.zeros(ntot)\n",
    "yvalues    = np.zeros(ntot)\n",
    "zvalues    = np.zeros(ntot)\n",
    "xvalues[0] = initx\n",
    "yvalues[0] = inity\n",
    "zvalues[0] = initz"
   ]
  },
  {
   "cell_type": "markdown",
   "id": "e0163d0a",
   "metadata": {},
   "source": [
    "Now, we define the system of Equations of Lorenz (1963). Notice that this code snippet is simply the translation of the Equations shown above into code."
   ]
  },
  {
   "cell_type": "code",
   "execution_count": null,
   "id": "8bbe0b22",
   "metadata": {},
   "outputs": [],
   "source": [
    "def systemLorenz1963(xx,yy,zz,params):\n",
    "    '''\n",
    "    Eqs. (25,26,27) of Lorenz (1963)\n",
    "    '''\n",
    "    sigmavalue = params[0]\n",
    "    rvalue     = params[1]\n",
    "    bvalue     = params[2]\n",
    "    dxdt = -1*sigmavalue*xx+sigmavalue*yy\n",
    "    dydt = (rvalue-zz)*xx-yy\n",
    "    dzdt = xx*yy-bvalue*zz\n",
    "    return(dxdt,dydt,dzdt)"
   ]
  },
  {
   "cell_type": "markdown",
   "id": "045e2df3",
   "metadata": {},
   "source": [
    "Below, we define a function that solves a system of 3 PDEs with the Runge Kutta 4 method. This function can be used to solve our non-linear system of equations at each time step."
   ]
  },
  {
   "cell_type": "code",
   "execution_count": null,
   "id": "18da1bd3",
   "metadata": {},
   "outputs": [],
   "source": [
    "def rk4_xyz(xx,yy,zz,step,func,params):\n",
    "    '''\n",
    "    Runge-Kutta 4 method for function of x,y,z and independent of time\n",
    "    '''\n",
    "    k1x,k1y,k1z = func(xx,yy,zz,params)\n",
    "    k2x,k2y,k2z = func(xx+step*k1x/2,yy+step*k1y/2,zz+step*k1z/2,params)\n",
    "    k3x,k3y,k3z = func(xx+step*k2x/2,yy+step*k2y/2,zz+step*k2z/2,params)\n",
    "    k4x,k4y,k4z = func(xx+step*k3x,yy+step*k3y,zz+step*k3z,params)\n",
    "    \n",
    "    stepx = 1/6*(k1x+2*k2x+2*k3x+k4x)*step\n",
    "    stepy = 1/6*(k1y+2*k2y+2*k3y+k4y)*step\n",
    "    stepz = 1/6*(k1z+2*k2z+2*k3z+k4z)*step\n",
    "    return(stepx,stepy,stepz)"
   ]
  },
  {
   "cell_type": "markdown",
   "id": "d2dd8504",
   "metadata": {},
   "source": [
    "All the ingredients are there to start iteratively looping through time!"
   ]
  },
  {
   "cell_type": "code",
   "execution_count": null,
   "id": "d75f6a02",
   "metadata": {},
   "outputs": [],
   "source": [
    "### Loop ###\n",
    "for ii in range(ntot-1):\n",
    "    \n",
    "    ### Solve steps in x,y,z ###\n",
    "    stepx,stepy,stepz = rk4_xyz(xvalues[ii],yvalues[ii],zvalues[ii],\n",
    "                                step=deltat,func=systemLorenz1963,\n",
    "                                params=[sigma,smallr,smallb])\n",
    "    \n",
    "    ### Update x,y,z ###\n",
    "    xvalues[ii+1]=xvalues[ii]+stepx\n",
    "    yvalues[ii+1]=yvalues[ii]+stepy\n",
    "    zvalues[ii+1]=zvalues[ii]+stepz"
   ]
  },
  {
   "cell_type": "markdown",
   "id": "7542780f",
   "metadata": {},
   "source": [
    "We extract from our results the list of relative maxima in $Z$ (the variable $M$ in the Lorenz (1963) paper)."
   ]
  },
  {
   "cell_type": "code",
   "execution_count": null,
   "id": "643ac844",
   "metadata": {},
   "outputs": [],
   "source": [
    "### Get relative maxima in Z ###\n",
    "relMaxZ = [zvalues[ii] for ii in range(1,ntot-1) if(zvalues[ii]>zvalues[ii-1] and zvalues[ii]>zvalues[ii+1])]"
   ]
  },
  {
   "cell_type": "markdown",
   "id": "41905eec",
   "metadata": {},
   "source": [
    "And finally, we plot our results to reproduce the figures of Lorenz (1963)."
   ]
  },
  {
   "cell_type": "code",
   "execution_count": null,
   "id": "903864f8",
   "metadata": {},
   "outputs": [],
   "source": [
    "### Plotting ###\n",
    "fig = plt.figure(figsize=[12,10])\n",
    "ax  = plt.subplot(2,2,1)\n",
    "ax.scatter(yvalues,zvalues,marker='o',c='b',s=1)\n",
    "ax.tick_params(axis='both',which='major',labelsize=13)\n",
    "ax.set_xlabel('Y',fontsize=14),ax.set_ylabel('Z',fontsize=14)\n",
    "ax  = plt.subplot(2,2,2)\n",
    "ax.scatter(yvalues,xvalues,marker='o',c='b',s=1)\n",
    "ax.tick_params(axis='both',which='major',labelsize=13)\n",
    "ax.set_xlabel('Y',fontsize=14),ax.set_ylabel('X',fontsize=14)\n",
    "ax  = plt.subplot(2,2,3)\n",
    "ax.scatter(relMaxZ[0:-1],relMaxZ[1:],marker='o',c='k',s=30)\n",
    "ax.tick_params(axis='both',which='major',labelsize=13)\n",
    "ax.set_xlabel(r'$M_{n}$',fontsize=14),ax.set_ylabel(r'$M_{n+1}$',fontsize=14)\n",
    "fig.tight_layout()"
   ]
  },
  {
   "cell_type": "markdown",
   "id": "9f255354",
   "metadata": {},
   "source": []
  }
 ],
 "metadata": {
  "kernelspec": {
   "display_name": "Python 3 (ipykernel)",
   "language": "python",
   "name": "python3"
  },
  "language_info": {
   "codemirror_mode": {
    "name": "ipython",
    "version": 3
   },
   "file_extension": ".py",
   "mimetype": "text/x-python",
   "name": "python",
   "nbconvert_exporter": "python",
   "pygments_lexer": "ipython3",
   "version": "3.9.12"
  }
 },
 "nbformat": 4,
 "nbformat_minor": 5
}
